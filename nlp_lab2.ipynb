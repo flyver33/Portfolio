{
  "nbformat": 4,
  "nbformat_minor": 0,
  "metadata": {
    "colab": {
      "provenance": [],
      "gpuType": "T4"
    },
    "kernelspec": {
      "name": "python3",
      "display_name": "Python 3"
    },
    "language_info": {
      "name": "python"
    },
    "accelerator": "GPU"
  },
  "cells": [
    {
      "cell_type": "code",
      "source": [
        "! pip install pymorphy2\n",
        "! pip install pymorphy2-dicts\n",
        "! pip install DAWG-Python"
      ],
      "metadata": {
        "colab": {
          "base_uri": "https://localhost:8080/"
        },
        "id": "g6jN8KPOU1Ie",
        "outputId": "2654fc14-c955-49a1-bf43-abaad301ca99"
      },
      "execution_count": null,
      "outputs": [
        {
          "output_type": "stream",
          "name": "stdout",
          "text": [
            "Collecting pymorphy2\n",
            "  Downloading pymorphy2-0.9.1-py3-none-any.whl (55 kB)\n",
            "\u001b[?25l     \u001b[90m━━━━━━━━━━━━━━━━━━━━━━━━━━━━━━━━━━━━━━━━\u001b[0m \u001b[32m0.0/55.5 kB\u001b[0m \u001b[31m?\u001b[0m eta \u001b[36m-:--:--\u001b[0m\r\u001b[2K     \u001b[90m━━━━━━━━━━━━━━━━━━━━━━━━━━━━━━━━━━━━━━━━\u001b[0m \u001b[32m55.5/55.5 kB\u001b[0m \u001b[31m2.0 MB/s\u001b[0m eta \u001b[36m0:00:00\u001b[0m\n",
            "\u001b[?25hCollecting dawg-python>=0.7.1 (from pymorphy2)\n",
            "  Downloading DAWG_Python-0.7.2-py2.py3-none-any.whl (11 kB)\n",
            "Collecting pymorphy2-dicts-ru<3.0,>=2.4 (from pymorphy2)\n",
            "  Downloading pymorphy2_dicts_ru-2.4.417127.4579844-py2.py3-none-any.whl (8.2 MB)\n",
            "\u001b[2K     \u001b[90m━━━━━━━━━━━━━━━━━━━━━━━━━━━━━━━━━━━━━━━━\u001b[0m \u001b[32m8.2/8.2 MB\u001b[0m \u001b[31m72.5 MB/s\u001b[0m eta \u001b[36m0:00:00\u001b[0m\n",
            "\u001b[?25hCollecting docopt>=0.6 (from pymorphy2)\n",
            "  Downloading docopt-0.6.2.tar.gz (25 kB)\n",
            "  Preparing metadata (setup.py) ... \u001b[?25l\u001b[?25hdone\n",
            "Building wheels for collected packages: docopt\n",
            "  Building wheel for docopt (setup.py) ... \u001b[?25l\u001b[?25hdone\n",
            "  Created wheel for docopt: filename=docopt-0.6.2-py2.py3-none-any.whl size=13706 sha256=8eb07db33cd03242c9d8e4eb6c2cccf9e3439437df3777978db91e9207be01f2\n",
            "  Stored in directory: /root/.cache/pip/wheels/fc/ab/d4/5da2067ac95b36618c629a5f93f809425700506f72c9732fac\n",
            "Successfully built docopt\n",
            "Installing collected packages: pymorphy2-dicts-ru, docopt, dawg-python, pymorphy2\n",
            "Successfully installed dawg-python-0.7.2 docopt-0.6.2 pymorphy2-0.9.1 pymorphy2-dicts-ru-2.4.417127.4579844\n",
            "Collecting pymorphy2-dicts\n",
            "  Downloading pymorphy2_dicts-2.4.393442.3710985-py2.py3-none-any.whl (7.1 MB)\n",
            "\u001b[2K     \u001b[90m━━━━━━━━━━━━━━━━━━━━━━━━━━━━━━━━━━━━━━━━\u001b[0m \u001b[32m7.1/7.1 MB\u001b[0m \u001b[31m16.3 MB/s\u001b[0m eta \u001b[36m0:00:00\u001b[0m\n",
            "\u001b[?25hInstalling collected packages: pymorphy2-dicts\n",
            "Successfully installed pymorphy2-dicts-2.4.393442.3710985\n",
            "Requirement already satisfied: DAWG-Python in /usr/local/lib/python3.10/dist-packages (0.7.2)\n"
          ]
        }
      ]
    },
    {
      "cell_type": "code",
      "source": [
        "! pip install razdel"
      ],
      "metadata": {
        "colab": {
          "base_uri": "https://localhost:8080/"
        },
        "id": "ATzh0OGY9vOq",
        "outputId": "80abb000-1923-4432-8992-9edbffa8c353"
      },
      "execution_count": null,
      "outputs": [
        {
          "output_type": "stream",
          "name": "stdout",
          "text": [
            "Collecting razdel\n",
            "  Downloading razdel-0.5.0-py3-none-any.whl (21 kB)\n",
            "Installing collected packages: razdel\n",
            "Successfully installed razdel-0.5.0\n"
          ]
        }
      ]
    },
    {
      "cell_type": "code",
      "source": [
        "! pip install navec"
      ],
      "metadata": {
        "colab": {
          "base_uri": "https://localhost:8080/"
        },
        "id": "I5khPE7xHcwn",
        "outputId": "99695645-e04a-4946-ff53-aff8d18e26c0"
      },
      "execution_count": null,
      "outputs": [
        {
          "output_type": "stream",
          "name": "stdout",
          "text": [
            "Collecting navec\n",
            "  Downloading navec-0.10.0-py3-none-any.whl (23 kB)\n",
            "Requirement already satisfied: numpy in /usr/local/lib/python3.10/dist-packages (from navec) (1.23.5)\n",
            "Installing collected packages: navec\n",
            "Successfully installed navec-0.10.0\n"
          ]
        }
      ]
    },
    {
      "cell_type": "code",
      "source": [
        "! wget https://storage.yandexcloud.net/natasha-navec/packs/navec_hudlit_v1_12B_500K_300d_100q.tar"
      ],
      "metadata": {
        "colab": {
          "base_uri": "https://localhost:8080/"
        },
        "id": "u3m3Uf51Hiz2",
        "outputId": "d5c6e1f3-7702-487a-9136-22da3b5ebdc5"
      },
      "execution_count": null,
      "outputs": [
        {
          "output_type": "stream",
          "name": "stdout",
          "text": [
            "--2023-11-17 06:58:53--  https://storage.yandexcloud.net/natasha-navec/packs/navec_hudlit_v1_12B_500K_300d_100q.tar\n",
            "Resolving storage.yandexcloud.net (storage.yandexcloud.net)... 213.180.193.243, 2a02:6b8::1d9\n",
            "Connecting to storage.yandexcloud.net (storage.yandexcloud.net)|213.180.193.243|:443... connected.\n",
            "HTTP request sent, awaiting response... 200 OK\n",
            "Length: 53012480 (51M) [application/x-tar]\n",
            "Saving to: ‘navec_hudlit_v1_12B_500K_300d_100q.tar’\n",
            "\n",
            "navec_hudlit_v1_12B 100%[===================>]  50.56M  18.0MB/s    in 2.8s    \n",
            "\n",
            "2023-11-17 06:58:57 (18.0 MB/s) - ‘navec_hudlit_v1_12B_500K_300d_100q.tar’ saved [53012480/53012480]\n",
            "\n"
          ]
        }
      ]
    },
    {
      "cell_type": "code",
      "source": [
        "! pip install torchmetrics"
      ],
      "metadata": {
        "colab": {
          "base_uri": "https://localhost:8080/"
        },
        "id": "j2agmo9LrxCa",
        "outputId": "373a0ba9-9e0c-4998-b5dc-d5ead5079a9d"
      },
      "execution_count": null,
      "outputs": [
        {
          "output_type": "stream",
          "name": "stdout",
          "text": [
            "Collecting torchmetrics\n",
            "  Downloading torchmetrics-1.2.0-py3-none-any.whl (805 kB)\n",
            "\u001b[2K     \u001b[90m━━━━━━━━━━━━━━━━━━━━━━━━━━━━━━━━━━━━━━━━\u001b[0m \u001b[32m805.2/805.2 kB\u001b[0m \u001b[31m5.7 MB/s\u001b[0m eta \u001b[36m0:00:00\u001b[0m\n",
            "\u001b[?25hRequirement already satisfied: numpy>1.20.0 in /usr/local/lib/python3.10/dist-packages (from torchmetrics) (1.23.5)\n",
            "Requirement already satisfied: torch>=1.8.1 in /usr/local/lib/python3.10/dist-packages (from torchmetrics) (2.1.0+cu118)\n",
            "Collecting lightning-utilities>=0.8.0 (from torchmetrics)\n",
            "  Downloading lightning_utilities-0.9.0-py3-none-any.whl (23 kB)\n",
            "Requirement already satisfied: packaging>=17.1 in /usr/local/lib/python3.10/dist-packages (from lightning-utilities>=0.8.0->torchmetrics) (23.2)\n",
            "Requirement already satisfied: typing-extensions in /usr/local/lib/python3.10/dist-packages (from lightning-utilities>=0.8.0->torchmetrics) (4.5.0)\n",
            "Requirement already satisfied: filelock in /usr/local/lib/python3.10/dist-packages (from torch>=1.8.1->torchmetrics) (3.13.1)\n",
            "Requirement already satisfied: sympy in /usr/local/lib/python3.10/dist-packages (from torch>=1.8.1->torchmetrics) (1.12)\n",
            "Requirement already satisfied: networkx in /usr/local/lib/python3.10/dist-packages (from torch>=1.8.1->torchmetrics) (3.2.1)\n",
            "Requirement already satisfied: jinja2 in /usr/local/lib/python3.10/dist-packages (from torch>=1.8.1->torchmetrics) (3.1.2)\n",
            "Requirement already satisfied: fsspec in /usr/local/lib/python3.10/dist-packages (from torch>=1.8.1->torchmetrics) (2023.6.0)\n",
            "Requirement already satisfied: triton==2.1.0 in /usr/local/lib/python3.10/dist-packages (from torch>=1.8.1->torchmetrics) (2.1.0)\n",
            "Requirement already satisfied: MarkupSafe>=2.0 in /usr/local/lib/python3.10/dist-packages (from jinja2->torch>=1.8.1->torchmetrics) (2.1.3)\n",
            "Requirement already satisfied: mpmath>=0.19 in /usr/local/lib/python3.10/dist-packages (from sympy->torch>=1.8.1->torchmetrics) (1.3.0)\n",
            "Installing collected packages: lightning-utilities, torchmetrics\n",
            "Successfully installed lightning-utilities-0.9.0 torchmetrics-1.2.0\n"
          ]
        }
      ]
    },
    {
      "cell_type": "code",
      "source": [
        "! pip install torcheval"
      ],
      "metadata": {
        "colab": {
          "base_uri": "https://localhost:8080/"
        },
        "id": "4dp-9abu93d5",
        "outputId": "7630e127-b980-4076-dd0a-38c559384d98"
      },
      "execution_count": null,
      "outputs": [
        {
          "output_type": "stream",
          "name": "stdout",
          "text": [
            "Collecting torcheval\n",
            "  Downloading torcheval-0.0.7-py3-none-any.whl (179 kB)\n",
            "\u001b[?25l     \u001b[90m━━━━━━━━━━━━━━━━━━━━━━━━━━━━━━━━━━━━━━━━\u001b[0m \u001b[32m0.0/179.2 kB\u001b[0m \u001b[31m?\u001b[0m eta \u001b[36m-:--:--\u001b[0m\r\u001b[2K     \u001b[91m━━━━━━━━━━━━━━━━━━━━━━━━━━━\u001b[0m\u001b[90m╺\u001b[0m\u001b[90m━━━━━━━━━━━━\u001b[0m \u001b[32m122.9/179.2 kB\u001b[0m \u001b[31m3.5 MB/s\u001b[0m eta \u001b[36m0:00:01\u001b[0m\r\u001b[2K     \u001b[90m━━━━━━━━━━━━━━━━━━━━━━━━━━━━━━━━━━━━━━━━\u001b[0m \u001b[32m179.2/179.2 kB\u001b[0m \u001b[31m3.8 MB/s\u001b[0m eta \u001b[36m0:00:00\u001b[0m\n",
            "\u001b[?25hRequirement already satisfied: typing-extensions in /usr/local/lib/python3.10/dist-packages (from torcheval) (4.5.0)\n",
            "Installing collected packages: torcheval\n",
            "Successfully installed torcheval-0.0.7\n"
          ]
        }
      ]
    },
    {
      "cell_type": "code",
      "execution_count": null,
      "metadata": {
        "id": "qfvME5hUSD6V"
      },
      "outputs": [],
      "source": [
        "import pandas as pd\n",
        "import numpy as np\n",
        "import torch\n",
        "import re\n",
        "from razdel import tokenize\n",
        "from navec import Navec\n",
        "import nltk\n",
        "from nltk.corpus import stopwords\n",
        "import pymorphy2\n",
        "from sklearn.model_selection import train_test_split\n",
        "import torchtext\n",
        "from torchtext import transforms\n",
        "import torch.nn as nn\n",
        "import matplotlib.pyplot as plt\n",
        "from torch.utils.data import TensorDataset, DataLoader\n",
        "from sklearn.metrics import r2_score\n",
        "from sklearn.metrics import classification_report\n",
        "from torcheval.metrics.functional import multiclass_f1_score"
      ]
    },
    {
      "cell_type": "code",
      "source": [
        "torch.cuda.is_available()"
      ],
      "metadata": {
        "colab": {
          "base_uri": "https://localhost:8080/"
        },
        "id": "FoFX7SSASvyi",
        "outputId": "59cdb91f-d4da-408f-eb19-36ce37a32fe8"
      },
      "execution_count": null,
      "outputs": [
        {
          "output_type": "execute_result",
          "data": {
            "text/plain": [
              "True"
            ]
          },
          "metadata": {},
          "execution_count": 8
        }
      ]
    },
    {
      "cell_type": "code",
      "source": [
        "torch.cuda.get_device_name(), torch.cuda.get_device_properties(torch.cuda.current_device)"
      ],
      "metadata": {
        "colab": {
          "base_uri": "https://localhost:8080/"
        },
        "id": "vDVfYJOATjr_",
        "outputId": "e15790b9-892b-4690-a5a0-abd578d9acb3"
      },
      "execution_count": null,
      "outputs": [
        {
          "output_type": "execute_result",
          "data": {
            "text/plain": [
              "('Tesla T4',\n",
              " _CudaDeviceProperties(name='Tesla T4', major=7, minor=5, total_memory=15101MB, multi_processor_count=40))"
            ]
          },
          "metadata": {},
          "execution_count": 9
        }
      ]
    },
    {
      "cell_type": "code",
      "source": [
        "data = pd.read_csv('Petitions.csv')"
      ],
      "metadata": {
        "id": "RZe2c2wmSHct"
      },
      "execution_count": null,
      "outputs": []
    },
    {
      "cell_type": "code",
      "source": [
        "data"
      ],
      "metadata": {
        "colab": {
          "base_uri": "https://localhost:8080/",
          "height": 423
        },
        "id": "N-lRXRvVSJVV",
        "outputId": "d5d65a09-0014-463a-f849-096c1bc1e9af"
      },
      "execution_count": null,
      "outputs": [
        {
          "output_type": "execute_result",
          "data": {
            "text/plain": [
              "            id                               public_petition_text  \\\n",
              "0      3168490                                     снег на дороге   \n",
              "1      3219678                очистить кабельный киоск от рекламы   \n",
              "2      2963920  Просим убрать все деревья и кустарники, которы...   \n",
              "3      3374910  Неудовлетворительное состояние парадной - надп...   \n",
              "4      3336285                                           Граффити   \n",
              "...        ...                                                ...   \n",
              "59884  3128111                           прошу закрасить граффити   \n",
              "59885  3276713       Прошу вас отремонтировать пешеходную дорожку   \n",
              "59886  3274663  Необходимо демонтировать незаконную рекламную ...   \n",
              "59887  3359308  Очень гремит на ветру металлическая часть окна...   \n",
              "59888  3209098  Две проблемы в одном:\\n1) Незаконные надписи/о...   \n",
              "\n",
              "                                         reason_category  \n",
              "0                                        Благоустройство  \n",
              "1                                        Благоустройство  \n",
              "2                                        Благоустройство  \n",
              "3                                         Содержание МКД  \n",
              "4                                        Благоустройство  \n",
              "...                                                  ...  \n",
              "59884                                    Благоустройство  \n",
              "59885                                    Благоустройство  \n",
              "59886  Незаконная информационная и (или) рекламная ко...  \n",
              "59887                                             Кровля  \n",
              "59888                                    Благоустройство  \n",
              "\n",
              "[59889 rows x 3 columns]"
            ],
            "text/html": [
              "\n",
              "  <div id=\"df-facf24a1-3e17-4c6d-a2ab-96df245f2624\" class=\"colab-df-container\">\n",
              "    <div>\n",
              "<style scoped>\n",
              "    .dataframe tbody tr th:only-of-type {\n",
              "        vertical-align: middle;\n",
              "    }\n",
              "\n",
              "    .dataframe tbody tr th {\n",
              "        vertical-align: top;\n",
              "    }\n",
              "\n",
              "    .dataframe thead th {\n",
              "        text-align: right;\n",
              "    }\n",
              "</style>\n",
              "<table border=\"1\" class=\"dataframe\">\n",
              "  <thead>\n",
              "    <tr style=\"text-align: right;\">\n",
              "      <th></th>\n",
              "      <th>id</th>\n",
              "      <th>public_petition_text</th>\n",
              "      <th>reason_category</th>\n",
              "    </tr>\n",
              "  </thead>\n",
              "  <tbody>\n",
              "    <tr>\n",
              "      <th>0</th>\n",
              "      <td>3168490</td>\n",
              "      <td>снег на дороге</td>\n",
              "      <td>Благоустройство</td>\n",
              "    </tr>\n",
              "    <tr>\n",
              "      <th>1</th>\n",
              "      <td>3219678</td>\n",
              "      <td>очистить кабельный киоск от рекламы</td>\n",
              "      <td>Благоустройство</td>\n",
              "    </tr>\n",
              "    <tr>\n",
              "      <th>2</th>\n",
              "      <td>2963920</td>\n",
              "      <td>Просим убрать все деревья и кустарники, которы...</td>\n",
              "      <td>Благоустройство</td>\n",
              "    </tr>\n",
              "    <tr>\n",
              "      <th>3</th>\n",
              "      <td>3374910</td>\n",
              "      <td>Неудовлетворительное состояние парадной - надп...</td>\n",
              "      <td>Содержание МКД</td>\n",
              "    </tr>\n",
              "    <tr>\n",
              "      <th>4</th>\n",
              "      <td>3336285</td>\n",
              "      <td>Граффити</td>\n",
              "      <td>Благоустройство</td>\n",
              "    </tr>\n",
              "    <tr>\n",
              "      <th>...</th>\n",
              "      <td>...</td>\n",
              "      <td>...</td>\n",
              "      <td>...</td>\n",
              "    </tr>\n",
              "    <tr>\n",
              "      <th>59884</th>\n",
              "      <td>3128111</td>\n",
              "      <td>прошу закрасить граффити</td>\n",
              "      <td>Благоустройство</td>\n",
              "    </tr>\n",
              "    <tr>\n",
              "      <th>59885</th>\n",
              "      <td>3276713</td>\n",
              "      <td>Прошу вас отремонтировать пешеходную дорожку</td>\n",
              "      <td>Благоустройство</td>\n",
              "    </tr>\n",
              "    <tr>\n",
              "      <th>59886</th>\n",
              "      <td>3274663</td>\n",
              "      <td>Необходимо демонтировать незаконную рекламную ...</td>\n",
              "      <td>Незаконная информационная и (или) рекламная ко...</td>\n",
              "    </tr>\n",
              "    <tr>\n",
              "      <th>59887</th>\n",
              "      <td>3359308</td>\n",
              "      <td>Очень гремит на ветру металлическая часть окна...</td>\n",
              "      <td>Кровля</td>\n",
              "    </tr>\n",
              "    <tr>\n",
              "      <th>59888</th>\n",
              "      <td>3209098</td>\n",
              "      <td>Две проблемы в одном:\\n1) Незаконные надписи/о...</td>\n",
              "      <td>Благоустройство</td>\n",
              "    </tr>\n",
              "  </tbody>\n",
              "</table>\n",
              "<p>59889 rows × 3 columns</p>\n",
              "</div>\n",
              "    <div class=\"colab-df-buttons\">\n",
              "\n",
              "  <div class=\"colab-df-container\">\n",
              "    <button class=\"colab-df-convert\" onclick=\"convertToInteractive('df-facf24a1-3e17-4c6d-a2ab-96df245f2624')\"\n",
              "            title=\"Convert this dataframe to an interactive table.\"\n",
              "            style=\"display:none;\">\n",
              "\n",
              "  <svg xmlns=\"http://www.w3.org/2000/svg\" height=\"24px\" viewBox=\"0 -960 960 960\">\n",
              "    <path d=\"M120-120v-720h720v720H120Zm60-500h600v-160H180v160Zm220 220h160v-160H400v160Zm0 220h160v-160H400v160ZM180-400h160v-160H180v160Zm440 0h160v-160H620v160ZM180-180h160v-160H180v160Zm440 0h160v-160H620v160Z\"/>\n",
              "  </svg>\n",
              "    </button>\n",
              "\n",
              "  <style>\n",
              "    .colab-df-container {\n",
              "      display:flex;\n",
              "      gap: 12px;\n",
              "    }\n",
              "\n",
              "    .colab-df-convert {\n",
              "      background-color: #E8F0FE;\n",
              "      border: none;\n",
              "      border-radius: 50%;\n",
              "      cursor: pointer;\n",
              "      display: none;\n",
              "      fill: #1967D2;\n",
              "      height: 32px;\n",
              "      padding: 0 0 0 0;\n",
              "      width: 32px;\n",
              "    }\n",
              "\n",
              "    .colab-df-convert:hover {\n",
              "      background-color: #E2EBFA;\n",
              "      box-shadow: 0px 1px 2px rgba(60, 64, 67, 0.3), 0px 1px 3px 1px rgba(60, 64, 67, 0.15);\n",
              "      fill: #174EA6;\n",
              "    }\n",
              "\n",
              "    .colab-df-buttons div {\n",
              "      margin-bottom: 4px;\n",
              "    }\n",
              "\n",
              "    [theme=dark] .colab-df-convert {\n",
              "      background-color: #3B4455;\n",
              "      fill: #D2E3FC;\n",
              "    }\n",
              "\n",
              "    [theme=dark] .colab-df-convert:hover {\n",
              "      background-color: #434B5C;\n",
              "      box-shadow: 0px 1px 3px 1px rgba(0, 0, 0, 0.15);\n",
              "      filter: drop-shadow(0px 1px 2px rgba(0, 0, 0, 0.3));\n",
              "      fill: #FFFFFF;\n",
              "    }\n",
              "  </style>\n",
              "\n",
              "    <script>\n",
              "      const buttonEl =\n",
              "        document.querySelector('#df-facf24a1-3e17-4c6d-a2ab-96df245f2624 button.colab-df-convert');\n",
              "      buttonEl.style.display =\n",
              "        google.colab.kernel.accessAllowed ? 'block' : 'none';\n",
              "\n",
              "      async function convertToInteractive(key) {\n",
              "        const element = document.querySelector('#df-facf24a1-3e17-4c6d-a2ab-96df245f2624');\n",
              "        const dataTable =\n",
              "          await google.colab.kernel.invokeFunction('convertToInteractive',\n",
              "                                                    [key], {});\n",
              "        if (!dataTable) return;\n",
              "\n",
              "        const docLinkHtml = 'Like what you see? Visit the ' +\n",
              "          '<a target=\"_blank\" href=https://colab.research.google.com/notebooks/data_table.ipynb>data table notebook</a>'\n",
              "          + ' to learn more about interactive tables.';\n",
              "        element.innerHTML = '';\n",
              "        dataTable['output_type'] = 'display_data';\n",
              "        await google.colab.output.renderOutput(dataTable, element);\n",
              "        const docLink = document.createElement('div');\n",
              "        docLink.innerHTML = docLinkHtml;\n",
              "        element.appendChild(docLink);\n",
              "      }\n",
              "    </script>\n",
              "  </div>\n",
              "\n",
              "\n",
              "<div id=\"df-8b31497c-ef9d-45c8-9d30-cb366c2305d7\">\n",
              "  <button class=\"colab-df-quickchart\" onclick=\"quickchart('df-8b31497c-ef9d-45c8-9d30-cb366c2305d7')\"\n",
              "            title=\"Suggest charts\"\n",
              "            style=\"display:none;\">\n",
              "\n",
              "<svg xmlns=\"http://www.w3.org/2000/svg\" height=\"24px\"viewBox=\"0 0 24 24\"\n",
              "     width=\"24px\">\n",
              "    <g>\n",
              "        <path d=\"M19 3H5c-1.1 0-2 .9-2 2v14c0 1.1.9 2 2 2h14c1.1 0 2-.9 2-2V5c0-1.1-.9-2-2-2zM9 17H7v-7h2v7zm4 0h-2V7h2v10zm4 0h-2v-4h2v4z\"/>\n",
              "    </g>\n",
              "</svg>\n",
              "  </button>\n",
              "\n",
              "<style>\n",
              "  .colab-df-quickchart {\n",
              "      --bg-color: #E8F0FE;\n",
              "      --fill-color: #1967D2;\n",
              "      --hover-bg-color: #E2EBFA;\n",
              "      --hover-fill-color: #174EA6;\n",
              "      --disabled-fill-color: #AAA;\n",
              "      --disabled-bg-color: #DDD;\n",
              "  }\n",
              "\n",
              "  [theme=dark] .colab-df-quickchart {\n",
              "      --bg-color: #3B4455;\n",
              "      --fill-color: #D2E3FC;\n",
              "      --hover-bg-color: #434B5C;\n",
              "      --hover-fill-color: #FFFFFF;\n",
              "      --disabled-bg-color: #3B4455;\n",
              "      --disabled-fill-color: #666;\n",
              "  }\n",
              "\n",
              "  .colab-df-quickchart {\n",
              "    background-color: var(--bg-color);\n",
              "    border: none;\n",
              "    border-radius: 50%;\n",
              "    cursor: pointer;\n",
              "    display: none;\n",
              "    fill: var(--fill-color);\n",
              "    height: 32px;\n",
              "    padding: 0;\n",
              "    width: 32px;\n",
              "  }\n",
              "\n",
              "  .colab-df-quickchart:hover {\n",
              "    background-color: var(--hover-bg-color);\n",
              "    box-shadow: 0 1px 2px rgba(60, 64, 67, 0.3), 0 1px 3px 1px rgba(60, 64, 67, 0.15);\n",
              "    fill: var(--button-hover-fill-color);\n",
              "  }\n",
              "\n",
              "  .colab-df-quickchart-complete:disabled,\n",
              "  .colab-df-quickchart-complete:disabled:hover {\n",
              "    background-color: var(--disabled-bg-color);\n",
              "    fill: var(--disabled-fill-color);\n",
              "    box-shadow: none;\n",
              "  }\n",
              "\n",
              "  .colab-df-spinner {\n",
              "    border: 2px solid var(--fill-color);\n",
              "    border-color: transparent;\n",
              "    border-bottom-color: var(--fill-color);\n",
              "    animation:\n",
              "      spin 1s steps(1) infinite;\n",
              "  }\n",
              "\n",
              "  @keyframes spin {\n",
              "    0% {\n",
              "      border-color: transparent;\n",
              "      border-bottom-color: var(--fill-color);\n",
              "      border-left-color: var(--fill-color);\n",
              "    }\n",
              "    20% {\n",
              "      border-color: transparent;\n",
              "      border-left-color: var(--fill-color);\n",
              "      border-top-color: var(--fill-color);\n",
              "    }\n",
              "    30% {\n",
              "      border-color: transparent;\n",
              "      border-left-color: var(--fill-color);\n",
              "      border-top-color: var(--fill-color);\n",
              "      border-right-color: var(--fill-color);\n",
              "    }\n",
              "    40% {\n",
              "      border-color: transparent;\n",
              "      border-right-color: var(--fill-color);\n",
              "      border-top-color: var(--fill-color);\n",
              "    }\n",
              "    60% {\n",
              "      border-color: transparent;\n",
              "      border-right-color: var(--fill-color);\n",
              "    }\n",
              "    80% {\n",
              "      border-color: transparent;\n",
              "      border-right-color: var(--fill-color);\n",
              "      border-bottom-color: var(--fill-color);\n",
              "    }\n",
              "    90% {\n",
              "      border-color: transparent;\n",
              "      border-bottom-color: var(--fill-color);\n",
              "    }\n",
              "  }\n",
              "</style>\n",
              "\n",
              "  <script>\n",
              "    async function quickchart(key) {\n",
              "      const quickchartButtonEl =\n",
              "        document.querySelector('#' + key + ' button');\n",
              "      quickchartButtonEl.disabled = true;  // To prevent multiple clicks.\n",
              "      quickchartButtonEl.classList.add('colab-df-spinner');\n",
              "      try {\n",
              "        const charts = await google.colab.kernel.invokeFunction(\n",
              "            'suggestCharts', [key], {});\n",
              "      } catch (error) {\n",
              "        console.error('Error during call to suggestCharts:', error);\n",
              "      }\n",
              "      quickchartButtonEl.classList.remove('colab-df-spinner');\n",
              "      quickchartButtonEl.classList.add('colab-df-quickchart-complete');\n",
              "    }\n",
              "    (() => {\n",
              "      let quickchartButtonEl =\n",
              "        document.querySelector('#df-8b31497c-ef9d-45c8-9d30-cb366c2305d7 button');\n",
              "      quickchartButtonEl.style.display =\n",
              "        google.colab.kernel.accessAllowed ? 'block' : 'none';\n",
              "    })();\n",
              "  </script>\n",
              "</div>\n",
              "    </div>\n",
              "  </div>\n"
            ]
          },
          "metadata": {},
          "execution_count": 12
        }
      ]
    },
    {
      "cell_type": "code",
      "source": [
        "text = np.array(data['public_petition_text'][:10000])"
      ],
      "metadata": {
        "id": "7SYSbYOlT7WT"
      },
      "execution_count": null,
      "outputs": []
    },
    {
      "cell_type": "code",
      "source": [
        " text"
      ],
      "metadata": {
        "colab": {
          "base_uri": "https://localhost:8080/"
        },
        "id": "6rp1SXG9VEuX",
        "outputId": "af732bd3-f0d2-4e9a-e921-ba33dc5fa501"
      },
      "execution_count": null,
      "outputs": [
        {
          "output_type": "execute_result",
          "data": {
            "text/plain": [
              "array(['снег на дороге', 'очистить кабельный киоск от рекламы',\n",
              "       'Просим убрать все деревья и кустарники, которые вышли за пределы газона на пешеходную зону, начиная от подъезда №13 до подъезда №15 (фасад дома со стороны ул. Наличной).',\n",
              "       ...,\n",
              "       'Товарный переулок. Мусор. В администрацию Центрального района.',\n",
              "       'В проезжей части просел канализационный люк.\\nТребуется произвести работы по регулировке уровня колодца, устранить просадку, качественно отремонтировать асфальтовое покрытие, соблюдая технологии (рекомендуется промазывать швы битумом для дольшей сохранности покрытий).\\n\\nФотофиксация от 31.03.прилагается.',\n",
              "       'Надписи на будке.'], dtype=object)"
            ]
          },
          "metadata": {},
          "execution_count": 14
        }
      ]
    },
    {
      "cell_type": "code",
      "source": [
        "nltk.download(\"stopwords\")\n",
        "stopwords_ru = stopwords.words(\"russian\")"
      ],
      "metadata": {
        "colab": {
          "base_uri": "https://localhost:8080/"
        },
        "id": "dJZR0KeHJUgn",
        "outputId": "ca21d04a-1708-4e74-db87-d5071211092b"
      },
      "execution_count": null,
      "outputs": [
        {
          "output_type": "stream",
          "name": "stderr",
          "text": [
            "[nltk_data] Downloading package stopwords to /root/nltk_data...\n",
            "[nltk_data]   Unzipping corpora/stopwords.zip.\n"
          ]
        }
      ]
    },
    {
      "cell_type": "code",
      "source": [
        "navec = Navec.load('navec_hudlit_v1_12B_500K_300d_100q.tar')"
      ],
      "metadata": {
        "id": "CAGpE_8iHxJT"
      },
      "execution_count": null,
      "outputs": []
    },
    {
      "cell_type": "code",
      "source": [
        "morph = pymorphy2.MorphAnalyzer()"
      ],
      "metadata": {
        "id": "tTVFxpjMU-in"
      },
      "execution_count": null,
      "outputs": []
    },
    {
      "cell_type": "code",
      "source": [
        "text_tokenize = []"
      ],
      "metadata": {
        "id": "ewU1yV7OJxF6"
      },
      "execution_count": null,
      "outputs": []
    },
    {
      "cell_type": "code",
      "source": [
        "text_wosw = []"
      ],
      "metadata": {
        "id": "y90p6z-LK738"
      },
      "execution_count": null,
      "outputs": []
    },
    {
      "cell_type": "code",
      "source": [
        "text_vect = []"
      ],
      "metadata": {
        "id": "wMsDNggJNmff"
      },
      "execution_count": null,
      "outputs": []
    },
    {
      "cell_type": "code",
      "source": [
        "for i in range(len(text)):\n",
        "  text[i] = re.sub('\\d+', '', text[i])\n",
        "  text[i] = re.sub('[^\\s^\\w]+', ' ', text[i])\n",
        "  text[i] = re.sub('[a-zA-Z]+', '', text[i])\n",
        "  text[i] = re.sub('\\s+', ' ', text[i])\n",
        "  text_tokenize.append(list(tokenize(text[i])))\n",
        "  text_wosw.append([token for token in text_tokenize[i] if token.text.lower() not in stopwords_ru])\n",
        "  text_vect.append(np.array([navec[morph.parse(token.text.lower())[0].normal_form]\n",
        "                    if morph.parse(token.text.lower())[0].normal_form in navec\n",
        "                    else navec['<unk>'] for token in text_wosw[i]]))"
      ],
      "metadata": {
        "id": "rFX1ZMQ4Vxzo"
      },
      "execution_count": null,
      "outputs": []
    },
    {
      "cell_type": "code",
      "source": [
        "maxLength = len(max(text_vect, key=len))"
      ],
      "metadata": {
        "id": "Wl83r4mdmSv3"
      },
      "execution_count": null,
      "outputs": []
    },
    {
      "cell_type": "code",
      "source": [
        "maxLength"
      ],
      "metadata": {
        "colab": {
          "base_uri": "https://localhost:8080/"
        },
        "id": "g6wdHQoemZLM",
        "outputId": "446a37b2-1850-4e2c-c287-ba4c8af4de39"
      },
      "execution_count": null,
      "outputs": [
        {
          "output_type": "execute_result",
          "data": {
            "text/plain": [
              "196"
            ]
          },
          "metadata": {},
          "execution_count": 23
        }
      ]
    },
    {
      "cell_type": "code",
      "source": [
        "for i in range(len(text_vect)):\n",
        "  if len(text_vect[i]) < maxLength:\n",
        "    pads = np.array([navec['pad'] for i in range(maxLength - len(text_vect[i]))])\n",
        "    text_vect[i] = np.concatenate((text_vect[i], pads), axis=0)"
      ],
      "metadata": {
        "id": "d4vvPpBw7g9W"
      },
      "execution_count": null,
      "outputs": []
    },
    {
      "cell_type": "code",
      "source": [
        "y = data['reason_category'][:10000]"
      ],
      "metadata": {
        "id": "oJnMo2-XZTwg"
      },
      "execution_count": null,
      "outputs": []
    },
    {
      "cell_type": "code",
      "source": [
        "y.isna().sum()"
      ],
      "metadata": {
        "colab": {
          "base_uri": "https://localhost:8080/"
        },
        "id": "OyEHdPuMbDVd",
        "outputId": "4494b8db-5d1d-4903-cce6-6d4edb13a8ab"
      },
      "execution_count": null,
      "outputs": [
        {
          "output_type": "execute_result",
          "data": {
            "text/plain": [
              "0"
            ]
          },
          "metadata": {},
          "execution_count": 26
        }
      ]
    },
    {
      "cell_type": "code",
      "source": [
        "y.unique()"
      ],
      "metadata": {
        "colab": {
          "base_uri": "https://localhost:8080/"
        },
        "id": "G2JBsTuraGa6",
        "outputId": "41d43232-6967-48d3-9a6b-2da3ad7ed3d5"
      },
      "execution_count": null,
      "outputs": [
        {
          "output_type": "execute_result",
          "data": {
            "text/plain": [
              "array(['Благоустройство', 'Содержание МКД',\n",
              "       'Незаконная информационная и (или) рекламная конструкция', 'Фасад',\n",
              "       'Водоснабжение', 'Нарушение правил пользования общим имуществом',\n",
              "       'Повреждения или неисправность элементов уличной инфраструктуры',\n",
              "       'Кровля', 'Состояние рекламных или информационных конструкций',\n",
              "       'Нарушение порядка пользования общим имуществом', 'Подвалы',\n",
              "       'Водоотведение', 'Санитарное состояние', 'Центральное отопление',\n",
              "       'Незаконная реализация товаров с торгового оборудования (прилавок, ящик, с земли)'],\n",
              "      dtype=object)"
            ]
          },
          "metadata": {},
          "execution_count": 27
        }
      ]
    },
    {
      "cell_type": "code",
      "source": [
        "y = y.astype('category').cat.codes"
      ],
      "metadata": {
        "id": "vLsMnPWhbOSL"
      },
      "execution_count": null,
      "outputs": []
    },
    {
      "cell_type": "code",
      "source": [
        "y"
      ],
      "metadata": {
        "colab": {
          "base_uri": "https://localhost:8080/"
        },
        "id": "EWgk9Y8_61BD",
        "outputId": "1d8e1bfa-003f-4c0e-a03f-5670a82d2b42"
      },
      "execution_count": null,
      "outputs": [
        {
          "output_type": "execute_result",
          "data": {
            "text/plain": [
              "0        0\n",
              "1        0\n",
              "2        0\n",
              "3       11\n",
              "4        0\n",
              "        ..\n",
              "9995     0\n",
              "9996     5\n",
              "9997     0\n",
              "9998     8\n",
              "9999     0\n",
              "Length: 10000, dtype: int8"
            ]
          },
          "metadata": {},
          "execution_count": 29
        }
      ]
    },
    {
      "cell_type": "code",
      "source": [
        "device = torch.device('cuda' if torch.cuda.is_available() else 'cpu')"
      ],
      "metadata": {
        "id": "CSBTefKWxwIP"
      },
      "execution_count": null,
      "outputs": []
    },
    {
      "cell_type": "code",
      "source": [
        "X_train, X_test, y_train, y_test = train_test_split(text_vect, y, test_size=0.15)"
      ],
      "metadata": {
        "id": "8vXg8NDRdRUp"
      },
      "execution_count": null,
      "outputs": []
    },
    {
      "cell_type": "code",
      "source": [
        "X_train = torch.tensor(X_train).to(device)\n",
        "X_test = torch.tensor(X_test).to(device)"
      ],
      "metadata": {
        "id": "67wo6RjiyHpO",
        "colab": {
          "base_uri": "https://localhost:8080/"
        },
        "outputId": "d30904da-0847-4156-980e-666bb40b8119"
      },
      "execution_count": null,
      "outputs": [
        {
          "output_type": "stream",
          "name": "stderr",
          "text": [
            "<ipython-input-32-ee445d58bea1>:1: UserWarning: Creating a tensor from a list of numpy.ndarrays is extremely slow. Please consider converting the list to a single numpy.ndarray with numpy.array() before converting to a tensor. (Triggered internally at ../torch/csrc/utils/tensor_new.cpp:261.)\n",
            "  X_train = torch.tensor(X_train).to(device)\n"
          ]
        }
      ]
    },
    {
      "cell_type": "code",
      "source": [
        "X_train = X_train.view([8500, 58800])"
      ],
      "metadata": {
        "id": "j6b6ouCAikej"
      },
      "execution_count": null,
      "outputs": []
    },
    {
      "cell_type": "code",
      "source": [
        "X_test = X_test.view([1500, 58800])"
      ],
      "metadata": {
        "id": "B4Fp3DLYi2Nx"
      },
      "execution_count": null,
      "outputs": []
    },
    {
      "cell_type": "code",
      "source": [
        "y_train = torch.tensor(np.array(y_train)).to(device)\n",
        "y_test = torch.tensor(np.array(y_test)).to(device)"
      ],
      "metadata": {
        "id": "ei1ls9nDyqQW"
      },
      "execution_count": null,
      "outputs": []
    },
    {
      "cell_type": "code",
      "source": [
        "class RNN(nn.Module):\n",
        "    def __init__(self, input_size, hidden_size, num_classes):\n",
        "\n",
        "        super().__init__()\n",
        "\n",
        "        self.rnn = nn.RNN(input_size, hidden_size, 1, batch_first=True)\n",
        "        self.fc = nn.Linear(hidden_size, num_classes)\n",
        "        self.softmax = nn.LogSoftmax()\n",
        "\n",
        "    def forward(self, x):\n",
        "\n",
        "        output, hidden = self.rnn(x)\n",
        "        output = output.squeeze(0)\n",
        "        output = self.fc(output)\n",
        "        output = self.softmax(output)\n",
        "\n",
        "        return output"
      ],
      "metadata": {
        "id": "BWZhssY00nYB"
      },
      "execution_count": null,
      "outputs": []
    },
    {
      "cell_type": "code",
      "source": [
        "X_train.shape"
      ],
      "metadata": {
        "colab": {
          "base_uri": "https://localhost:8080/"
        },
        "id": "XH6As2Gn4B-a",
        "outputId": "a8b23d3a-8793-42f1-b42e-0f08a1813279"
      },
      "execution_count": null,
      "outputs": [
        {
          "output_type": "execute_result",
          "data": {
            "text/plain": [
              "torch.Size([8500, 58800])"
            ]
          },
          "metadata": {},
          "execution_count": 37
        }
      ]
    },
    {
      "cell_type": "code",
      "source": [
        "y_train.shape"
      ],
      "metadata": {
        "colab": {
          "base_uri": "https://localhost:8080/"
        },
        "id": "u3w6Zcpz4ERQ",
        "outputId": "53f36ce0-be36-4d7a-8c1d-edf17cfa1214"
      },
      "execution_count": null,
      "outputs": [
        {
          "output_type": "execute_result",
          "data": {
            "text/plain": [
              "torch.Size([8500])"
            ]
          },
          "metadata": {},
          "execution_count": 38
        }
      ]
    },
    {
      "cell_type": "code",
      "source": [
        "model = RNN(X_train.shape[1], 1, 15)"
      ],
      "metadata": {
        "id": "7T0--dM637az"
      },
      "execution_count": null,
      "outputs": []
    },
    {
      "cell_type": "code",
      "source": [
        "model = model.to(device)"
      ],
      "metadata": {
        "id": "gDaVv9re4ZMb"
      },
      "execution_count": null,
      "outputs": []
    },
    {
      "cell_type": "code",
      "source": [
        "loss = nn.NLLLoss()"
      ],
      "metadata": {
        "id": "mqdwdOOI41VH"
      },
      "execution_count": null,
      "outputs": []
    },
    {
      "cell_type": "code",
      "source": [
        "optimizer = torch.optim.Adam(model.parameters(), lr=1e-3)"
      ],
      "metadata": {
        "id": "6eCb3CHF5BMY"
      },
      "execution_count": null,
      "outputs": []
    },
    {
      "cell_type": "code",
      "source": [
        "train_ds = TensorDataset(torch.tensor(X_train).type(torch.float32), torch.tensor(y_train).type(torch.float32))\n",
        "\n",
        "train_dl = DataLoader(train_ds, batch_size=256, shuffle=True)"
      ],
      "metadata": {
        "colab": {
          "base_uri": "https://localhost:8080/"
        },
        "id": "-xGodmZe5K4c",
        "outputId": "95fc8c97-f68f-442d-ac8a-7e004e5bb3a2"
      },
      "execution_count": null,
      "outputs": [
        {
          "output_type": "stream",
          "name": "stderr",
          "text": [
            "<ipython-input-43-e2034b78a8e2>:1: UserWarning: To copy construct from a tensor, it is recommended to use sourceTensor.clone().detach() or sourceTensor.clone().detach().requires_grad_(True), rather than torch.tensor(sourceTensor).\n",
            "  train_ds = TensorDataset(torch.tensor(X_train).type(torch.float32), torch.tensor(y_train).type(torch.float32))\n"
          ]
        }
      ]
    },
    {
      "cell_type": "code",
      "source": [
        "losses = []\n",
        "\n",
        "for ep in range (100):\n",
        "\n",
        "  for x_b, y_b in train_dl:\n",
        "\n",
        "    y_b = y_b.type(torch.LongTensor)\n",
        "    x_b, y_b = x_b.to(device), y_b.to(device)\n",
        "\n",
        "    outputs = model(x_b)\n",
        "    loss_value = loss(outputs, y_b)\n",
        "    loss_value.backward()\n",
        "    optimizer.step()\n",
        "    optimizer.zero_grad()\n",
        "    losses.append(loss_value.item())\n",
        "\n",
        "  print(f'Эпоха {ep + 1}, Значение функции потерь: {loss_value.item()}')"
      ],
      "metadata": {
        "colab": {
          "base_uri": "https://localhost:8080/"
        },
        "id": "y9JnUvGm4cz-",
        "outputId": "89138778-92db-49ac-98fb-a6e7a59c0eca"
      },
      "execution_count": null,
      "outputs": [
        {
          "output_type": "stream",
          "name": "stderr",
          "text": [
            "/usr/local/lib/python3.10/dist-packages/torch/nn/modules/module.py:1518: UserWarning: Implicit dimension choice for log_softmax has been deprecated. Change the call to include dim=X as an argument.\n",
            "  return self._call_impl(*args, **kwargs)\n"
          ]
        },
        {
          "output_type": "stream",
          "name": "stdout",
          "text": [
            "Эпоха 1, Значение функции потерь: 2.521437168121338\n",
            "Эпоха 2, Значение функции потерь: 2.605186700820923\n",
            "Эпоха 3, Значение функции потерь: 2.3150217533111572\n",
            "Эпоха 4, Значение функции потерь: 2.4288628101348877\n",
            "Эпоха 5, Значение функции потерь: 2.4020800590515137\n",
            "Эпоха 6, Значение функции потерь: 2.3130850791931152\n",
            "Эпоха 7, Значение функции потерь: 2.0118041038513184\n",
            "Эпоха 8, Значение функции потерь: 1.9765441417694092\n",
            "Эпоха 9, Значение функции потерь: 2.0692801475524902\n",
            "Эпоха 10, Значение функции потерь: 2.2302019596099854\n",
            "Эпоха 11, Значение функции потерь: 1.7760462760925293\n",
            "Эпоха 12, Значение функции потерь: 1.7314168214797974\n",
            "Эпоха 13, Значение функции потерь: 1.9667993783950806\n",
            "Эпоха 14, Значение функции потерь: 1.7138035297393799\n",
            "Эпоха 15, Значение функции потерь: 1.902561068534851\n",
            "Эпоха 16, Значение функции потерь: 1.771881341934204\n",
            "Эпоха 17, Значение функции потерь: 1.3923022747039795\n",
            "Эпоха 18, Значение функции потерь: 1.6942285299301147\n",
            "Эпоха 19, Значение функции потерь: 1.5541437864303589\n",
            "Эпоха 20, Значение функции потерь: 1.4566268920898438\n",
            "Эпоха 21, Значение функции потерь: 1.4368607997894287\n",
            "Эпоха 22, Значение функции потерь: 1.7448762655258179\n",
            "Эпоха 23, Значение функции потерь: 1.4471726417541504\n",
            "Эпоха 24, Значение функции потерь: 1.2714673280715942\n",
            "Эпоха 25, Значение функции потерь: 1.4493649005889893\n",
            "Эпоха 26, Значение функции потерь: 1.579927921295166\n",
            "Эпоха 27, Значение функции потерь: 1.3747105598449707\n",
            "Эпоха 28, Значение функции потерь: 1.6064469814300537\n",
            "Эпоха 29, Значение функции потерь: 1.5563863515853882\n",
            "Эпоха 30, Значение функции потерь: 1.239065170288086\n",
            "Эпоха 31, Значение функции потерь: 1.1339701414108276\n",
            "Эпоха 32, Значение функции потерь: 1.490141749382019\n",
            "Эпоха 33, Значение функции потерь: 1.4763720035552979\n",
            "Эпоха 34, Значение функции потерь: 1.6275250911712646\n",
            "Эпоха 35, Значение функции потерь: 1.6995359659194946\n",
            "Эпоха 36, Значение функции потерь: 1.6380566358566284\n",
            "Эпоха 37, Значение функции потерь: 1.4726049900054932\n",
            "Эпоха 38, Значение функции потерь: 1.3385372161865234\n",
            "Эпоха 39, Значение функции потерь: 1.3623384237289429\n",
            "Эпоха 40, Значение функции потерь: 1.6488935947418213\n",
            "Эпоха 41, Значение функции потерь: 1.3423985242843628\n",
            "Эпоха 42, Значение функции потерь: 1.6026179790496826\n",
            "Эпоха 43, Значение функции потерь: 1.1433783769607544\n",
            "Эпоха 44, Значение функции потерь: 1.3588637113571167\n",
            "Эпоха 45, Значение функции потерь: 1.4499891996383667\n",
            "Эпоха 46, Значение функции потерь: 1.6052627563476562\n",
            "Эпоха 47, Значение функции потерь: 1.3594282865524292\n",
            "Эпоха 48, Значение функции потерь: 1.3468716144561768\n",
            "Эпоха 49, Значение функции потерь: 1.2352131605148315\n",
            "Эпоха 50, Значение функции потерь: 1.4993082284927368\n",
            "Эпоха 51, Значение функции потерь: 1.5202109813690186\n",
            "Эпоха 52, Значение функции потерь: 1.592740774154663\n",
            "Эпоха 53, Значение функции потерь: 1.4656625986099243\n",
            "Эпоха 54, Значение функции потерь: 1.4932488203048706\n",
            "Эпоха 55, Значение функции потерь: 1.2900372743606567\n",
            "Эпоха 56, Значение функции потерь: 1.1992038488388062\n",
            "Эпоха 57, Значение функции потерь: 1.6815320253372192\n",
            "Эпоха 58, Значение функции потерь: 1.3879426717758179\n",
            "Эпоха 59, Значение функции потерь: 1.3378984928131104\n",
            "Эпоха 60, Значение функции потерь: 1.415987491607666\n",
            "Эпоха 61, Значение функции потерь: 1.4371018409729004\n",
            "Эпоха 62, Значение функции потерь: 1.1552397012710571\n",
            "Эпоха 63, Значение функции потерь: 1.499422311782837\n",
            "Эпоха 64, Значение функции потерь: 1.3447778224945068\n",
            "Эпоха 65, Значение функции потерь: 1.5059282779693604\n",
            "Эпоха 66, Значение функции потерь: 1.304843783378601\n",
            "Эпоха 67, Значение функции потерь: 1.2717698812484741\n",
            "Эпоха 68, Значение функции потерь: 1.2709565162658691\n",
            "Эпоха 69, Значение функции потерь: 1.0624371767044067\n",
            "Эпоха 70, Значение функции потерь: 1.2438597679138184\n",
            "Эпоха 71, Значение функции потерь: 1.4193480014801025\n",
            "Эпоха 72, Значение функции потерь: 1.2750424146652222\n",
            "Эпоха 73, Значение функции потерь: 1.3335914611816406\n",
            "Эпоха 74, Значение функции потерь: 1.294897198677063\n",
            "Эпоха 75, Значение функции потерь: 1.2116767168045044\n",
            "Эпоха 76, Значение функции потерь: 1.3511244058609009\n",
            "Эпоха 77, Значение функции потерь: 1.3143976926803589\n",
            "Эпоха 78, Значение функции потерь: 1.6688860654830933\n",
            "Эпоха 79, Значение функции потерь: 1.325212001800537\n",
            "Эпоха 80, Значение функции потерь: 1.1876169443130493\n",
            "Эпоха 81, Значение функции потерь: 1.4131011962890625\n",
            "Эпоха 82, Значение функции потерь: 1.2306236028671265\n",
            "Эпоха 83, Значение функции потерь: 1.521004557609558\n",
            "Эпоха 84, Значение функции потерь: 1.2366280555725098\n",
            "Эпоха 85, Значение функции потерь: 1.1054844856262207\n",
            "Эпоха 86, Значение функции потерь: 1.2980577945709229\n",
            "Эпоха 87, Значение функции потерь: 1.697559118270874\n",
            "Эпоха 88, Значение функции потерь: 1.116776704788208\n",
            "Эпоха 89, Значение функции потерь: 1.3230445384979248\n",
            "Эпоха 90, Значение функции потерь: 1.5230739116668701\n",
            "Эпоха 91, Значение функции потерь: 1.3005356788635254\n",
            "Эпоха 92, Значение функции потерь: 1.1775376796722412\n",
            "Эпоха 93, Значение функции потерь: 1.2634069919586182\n",
            "Эпоха 94, Значение функции потерь: 1.7289948463439941\n",
            "Эпоха 95, Значение функции потерь: 1.4429011344909668\n",
            "Эпоха 96, Значение функции потерь: 1.4381349086761475\n",
            "Эпоха 97, Значение функции потерь: 1.354304552078247\n",
            "Эпоха 98, Значение функции потерь: 1.4803065061569214\n",
            "Эпоха 99, Значение функции потерь: 1.3021152019500732\n",
            "Эпоха 100, Значение функции потерь: 1.1485422849655151\n"
          ]
        }
      ]
    },
    {
      "cell_type": "code",
      "source": [
        "plt.plot(losses)"
      ],
      "metadata": {
        "id": "uvz59CkB4jYf",
        "colab": {
          "base_uri": "https://localhost:8080/",
          "height": 448
        },
        "outputId": "e75930ee-080a-4da9-ffad-b853fe311a90"
      },
      "execution_count": null,
      "outputs": [
        {
          "output_type": "execute_result",
          "data": {
            "text/plain": [
              "[<matplotlib.lines.Line2D at 0x7c5031411660>]"
            ]
          },
          "metadata": {},
          "execution_count": 45
        },
        {
          "output_type": "display_data",
          "data": {
            "text/plain": [
              "<Figure size 640x480 with 1 Axes>"
            ],
            "image/png": "[encoded data removed]"
          },
          "metadata": {}
        }
      ]
    },
    {
      "cell_type": "code",
      "source": [
        "y_pred = model(X_test.type(torch.float32))"
      ],
      "metadata": {
        "id": "Ppui-v_MjU_H"
      },
      "execution_count": null,
      "outputs": []
    },
    {
      "cell_type": "code",
      "source": [
        "y_pred"
      ],
      "metadata": {
        "colab": {
          "base_uri": "https://localhost:8080/"
        },
        "id": "lns2nviIqN_I",
        "outputId": "5e9ee3eb-210a-4489-b1e9-76e63bff914e"
      },
      "execution_count": null,
      "outputs": [
        {
          "output_type": "execute_result",
          "data": {
            "text/plain": [
              "tensor([[-0.5346, -5.2295, -4.2798,  ..., -4.5167, -3.6775, -5.2375],\n",
              "        [-0.5346, -5.2295, -4.2798,  ..., -4.5167, -3.6775, -5.2375],\n",
              "        [-0.5346, -5.2295, -4.2798,  ..., -4.5167, -3.6775, -5.2375],\n",
              "        ...,\n",
              "        [-0.5346, -5.2295, -4.2798,  ..., -4.5167, -3.6775, -5.2375],\n",
              "        [-0.5346, -5.2295, -4.2798,  ..., -4.5167, -3.6775, -5.2375],\n",
              "        [-0.5346, -5.2295, -4.2798,  ..., -4.5167, -3.6775, -5.2375]],\n",
              "       device='cuda:0', grad_fn=<LogSoftmaxBackward0>)"
            ]
          },
          "metadata": {},
          "execution_count": 47
        }
      ]
    },
    {
      "cell_type": "code",
      "source": [
        "multiclass_f1_score(y_pred, y_test, num_classes=15)"
      ],
      "metadata": {
        "colab": {
          "base_uri": "https://localhost:8080/"
        },
        "id": "yLCM3yku-AvM",
        "outputId": "455970bd-b260-47f4-bb71-6f1faf64c17f"
      },
      "execution_count": null,
      "outputs": [
        {
          "output_type": "execute_result",
          "data": {
            "text/plain": [
              "tensor(0.5700, device='cuda:0')"
            ]
          },
          "metadata": {},
          "execution_count": 48
        }
      ]
    },
    {
      "cell_type": "code",
      "source": [
        "class GRU(nn.Module):\n",
        "    def __init__(self, input_size, hidden_size, num_classes):\n",
        "\n",
        "        super().__init__()\n",
        "\n",
        "        self.gru = nn.GRU(input_size, hidden_size, 1, batch_first=True)\n",
        "        self.fc = nn.Linear(hidden_size, num_classes)\n",
        "        self.softmax = nn.LogSoftmax()\n",
        "\n",
        "    def forward(self, x):\n",
        "\n",
        "        output, hidden = self.gru(x)\n",
        "        output = output.squeeze(0)\n",
        "        output = self.fc(output)\n",
        "        output = self.softmax(output)\n",
        "\n",
        "        return output"
      ],
      "metadata": {
        "id": "MmsJTV-LtLVV"
      },
      "execution_count": null,
      "outputs": []
    },
    {
      "cell_type": "code",
      "source": [
        "model1 = GRU(X_train.shape[1], 1, 15)"
      ],
      "metadata": {
        "id": "iWtPtAq2tOHE"
      },
      "execution_count": null,
      "outputs": []
    },
    {
      "cell_type": "code",
      "source": [
        "model1 = model1.to(device)"
      ],
      "metadata": {
        "id": "TW7BZ9dDtX-a"
      },
      "execution_count": null,
      "outputs": []
    },
    {
      "cell_type": "code",
      "source": [
        "loss = nn.NLLLoss()"
      ],
      "metadata": {
        "id": "jTQEaNOFAdw6"
      },
      "execution_count": null,
      "outputs": []
    },
    {
      "cell_type": "code",
      "source": [
        "optimizer = torch.optim.Adam(model1.parameters(), lr=1e-3)"
      ],
      "metadata": {
        "id": "KlZmtd1OAibD"
      },
      "execution_count": null,
      "outputs": []
    },
    {
      "cell_type": "code",
      "source": [
        "losses = []\n",
        "\n",
        "for ep in range (200):\n",
        "\n",
        "  for x_b, y_b in train_dl:\n",
        "\n",
        "    y_b = y_b.type(torch.LongTensor)\n",
        "    x_b, y_b = x_b.to(device), y_b.to(device)\n",
        "\n",
        "    outputs = model1(x_b)\n",
        "    loss_value = loss(outputs, y_b)\n",
        "    loss_value.backward()\n",
        "    optimizer.step()\n",
        "    optimizer.zero_grad()\n",
        "    losses.append(loss_value.item())\n",
        "\n",
        "  print(f'Эпоха {ep + 1}, Значение функции потерь: {loss_value.item()}')"
      ],
      "metadata": {
        "colab": {
          "base_uri": "https://localhost:8080/"
        },
        "id": "MEgShpCvtboL",
        "outputId": "72bed3b8-a455-407f-e385-4781236304b3"
      },
      "execution_count": null,
      "outputs": [
        {
          "output_type": "stream",
          "name": "stdout",
          "text": [
            "Эпоха 1, Значение функции потерь: 2.894867420196533\n",
            "Эпоха 2, Значение функции потерь: 2.7677879333496094\n",
            "Эпоха 3, Значение функции потерь: 2.74019455909729\n",
            "Эпоха 4, Значение функции потерь: 2.7117254734039307\n",
            "Эпоха 5, Значение функции потерь: 2.6396431922912598\n",
            "Эпоха 6, Значение функции потерь: 2.4418692588806152\n",
            "Эпоха 7, Значение функции потерь: 2.4581806659698486\n",
            "Эпоха 8, Значение функции потерь: 2.304051399230957\n",
            "Эпоха 9, Значение функции потерь: 2.403508424758911\n",
            "Эпоха 10, Значение функции потерь: 2.3003756999969482\n",
            "Эпоха 11, Значение функции потерь: 2.202219009399414\n",
            "Эпоха 12, Значение функции потерь: 2.112642765045166\n",
            "Эпоха 13, Значение функции потерь: 2.103454113006592\n",
            "Эпоха 14, Значение функции потерь: 2.0390868186950684\n",
            "Эпоха 15, Значение функции потерь: 1.9181348085403442\n",
            "Эпоха 16, Значение функции потерь: 1.8953588008880615\n",
            "Эпоха 17, Значение функции потерь: 1.750380277633667\n",
            "Эпоха 18, Значение функции потерь: 1.7839242219924927\n",
            "Эпоха 19, Значение функции потерь: 1.7997008562088013\n",
            "Эпоха 20, Значение функции потерь: 1.586188793182373\n",
            "Эпоха 21, Значение функции потерь: 1.7633970975875854\n",
            "Эпоха 22, Значение функции потерь: 1.7243187427520752\n",
            "Эпоха 23, Значение функции потерь: 1.5526401996612549\n",
            "Эпоха 24, Значение функции потерь: 1.5050067901611328\n",
            "Эпоха 25, Значение функции потерь: 1.5323426723480225\n",
            "Эпоха 26, Значение функции потерь: 1.5709240436553955\n",
            "Эпоха 27, Значение функции потерь: 1.5077016353607178\n",
            "Эпоха 28, Значение функции потерь: 1.8401345014572144\n",
            "Эпоха 29, Значение функции потерь: 1.641294240951538\n",
            "Эпоха 30, Значение функции потерь: 1.662103533744812\n",
            "Эпоха 31, Значение функции потерь: 1.5447518825531006\n",
            "Эпоха 32, Значение функции потерь: 1.5271708965301514\n",
            "Эпоха 33, Значение функции потерь: 1.2921149730682373\n",
            "Эпоха 34, Значение функции потерь: 1.4586859941482544\n",
            "Эпоха 35, Значение функции потерь: 1.467093586921692\n",
            "Эпоха 36, Значение функции потерь: 1.4910171031951904\n",
            "Эпоха 37, Значение функции потерь: 1.249569058418274\n",
            "Эпоха 38, Значение функции потерь: 1.7051055431365967\n",
            "Эпоха 39, Значение функции потерь: 1.4768556356430054\n",
            "Эпоха 40, Значение функции потерь: 1.3139909505844116\n",
            "Эпоха 41, Значение функции потерь: 1.2421953678131104\n",
            "Эпоха 42, Значение функции потерь: 1.5077959299087524\n",
            "Эпоха 43, Значение функции потерь: 1.2830684185028076\n",
            "Эпоха 44, Значение функции потерь: 1.4062285423278809\n",
            "Эпоха 45, Значение функции потерь: 1.1568061113357544\n",
            "Эпоха 46, Значение функции потерь: 1.3861916065216064\n",
            "Эпоха 47, Значение функции потерь: 1.5368374586105347\n",
            "Эпоха 48, Значение функции потерь: 1.4715781211853027\n",
            "Эпоха 49, Значение функции потерь: 1.3395155668258667\n",
            "Эпоха 50, Значение функции потерь: 1.3131868839263916\n",
            "Эпоха 51, Значение функции потерь: 1.1910758018493652\n",
            "Эпоха 52, Значение функции потерь: 1.2515569925308228\n",
            "Эпоха 53, Значение функции потерь: 1.582236409187317\n",
            "Эпоха 54, Значение функции потерь: 1.5277683734893799\n",
            "Эпоха 55, Значение функции потерь: 1.457951307296753\n",
            "Эпоха 56, Значение функции потерь: 1.2999202013015747\n",
            "Эпоха 57, Значение функции потерь: 1.6128915548324585\n",
            "Эпоха 58, Значение функции потерь: 1.485413908958435\n",
            "Эпоха 59, Значение функции потерь: 1.2164726257324219\n",
            "Эпоха 60, Значение функции потерь: 1.4949052333831787\n",
            "Эпоха 61, Значение функции потерь: 1.2857282161712646\n",
            "Эпоха 62, Значение функции потерь: 1.183154821395874\n",
            "Эпоха 63, Значение функции потерь: 1.2786108255386353\n",
            "Эпоха 64, Значение функции потерь: 1.6377577781677246\n",
            "Эпоха 65, Значение функции потерь: 1.4417204856872559\n",
            "Эпоха 66, Значение функции потерь: 1.2718653678894043\n",
            "Эпоха 67, Значение функции потерь: 1.1759617328643799\n",
            "Эпоха 68, Значение функции потерь: 1.4141175746917725\n",
            "Эпоха 69, Значение функции потерь: 1.276187777519226\n",
            "Эпоха 70, Значение функции потерь: 1.363610029220581\n",
            "Эпоха 71, Значение функции потерь: 1.432303547859192\n",
            "Эпоха 72, Значение функции потерь: 1.5527546405792236\n",
            "Эпоха 73, Значение функции потерь: 1.2742562294006348\n",
            "Эпоха 74, Значение функции потерь: 1.1711779832839966\n",
            "Эпоха 75, Значение функции потерь: 1.267320156097412\n",
            "Эпоха 76, Значение функции потерь: 1.5555914640426636\n",
            "Эпоха 77, Значение функции потерь: 1.3377782106399536\n",
            "Эпоха 78, Значение функции потерь: 1.3681163787841797\n",
            "Эпоха 79, Значение функции потерь: 1.197828769683838\n",
            "Эпоха 80, Значение функции потерь: 1.3986538648605347\n",
            "Эпоха 81, Значение функции потерь: 1.442300796508789\n",
            "Эпоха 82, Значение функции потерь: 1.2210301160812378\n",
            "Эпоха 83, Значение функции потерь: 1.3208415508270264\n",
            "Эпоха 84, Значение функции потерь: 1.288330078125\n",
            "Эпоха 85, Значение функции потерь: 1.0866669416427612\n",
            "Эпоха 86, Значение функции потерь: 1.0280683040618896\n",
            "Эпоха 87, Значение функции потерь: 1.1371994018554688\n",
            "Эпоха 88, Значение функции потерь: 1.1305054426193237\n",
            "Эпоха 89, Значение функции потерь: 1.1497361660003662\n",
            "Эпоха 90, Значение функции потерь: 1.4754250049591064\n",
            "Эпоха 91, Значение функции потерь: 1.1205191612243652\n",
            "Эпоха 92, Значение функции потерь: 1.344783902168274\n",
            "Эпоха 93, Значение функции потерь: 1.5981566905975342\n",
            "Эпоха 94, Значение функции потерь: 1.3388540744781494\n",
            "Эпоха 95, Значение функции потерь: 1.1915887594223022\n",
            "Эпоха 96, Значение функции потерь: 1.2992136478424072\n",
            "Эпоха 97, Значение функции потерь: 1.0386109352111816\n",
            "Эпоха 98, Значение функции потерь: 1.7075693607330322\n",
            "Эпоха 99, Значение функции потерь: 1.2053407430648804\n",
            "Эпоха 100, Значение функции потерь: 1.5140750408172607\n",
            "Эпоха 101, Значение функции потерь: 1.5434837341308594\n",
            "Эпоха 102, Значение функции потерь: 1.4739470481872559\n",
            "Эпоха 103, Значение функции потерь: 1.5861968994140625\n",
            "Эпоха 104, Значение функции потерь: 1.4895055294036865\n",
            "Эпоха 105, Значение функции потерь: 1.4237507581710815\n",
            "Эпоха 106, Значение функции потерь: 1.3551408052444458\n",
            "Эпоха 107, Значение функции потерь: 1.1713472604751587\n",
            "Эпоха 108, Значение функции потерь: 1.2573516368865967\n",
            "Эпоха 109, Значение функции потерь: 1.377524733543396\n",
            "Эпоха 110, Значение функции потерь: 1.159087061882019\n",
            "Эпоха 111, Значение функции потерь: 1.1723707914352417\n",
            "Эпоха 112, Значение функции потерь: 1.3842707872390747\n",
            "Эпоха 113, Значение функции потерь: 1.4700255393981934\n",
            "Эпоха 114, Значение функции потерь: 1.227013349533081\n",
            "Эпоха 115, Значение функции потерь: 1.1698373556137085\n",
            "Эпоха 116, Значение функции потерь: 1.192224144935608\n",
            "Эпоха 117, Значение функции потерь: 1.2292872667312622\n",
            "Эпоха 118, Значение функции потерь: 1.21329665184021\n",
            "Эпоха 119, Значение функции потерь: 1.461352825164795\n",
            "Эпоха 120, Значение функции потерь: 1.5023070573806763\n",
            "Эпоха 121, Значение функции потерь: 1.4602758884429932\n",
            "Эпоха 122, Значение функции потерь: 1.3192270994186401\n",
            "Эпоха 123, Значение функции потерь: 1.5007356405258179\n",
            "Эпоха 124, Значение функции потерь: 1.2023247480392456\n",
            "Эпоха 125, Значение функции потерь: 1.2428339719772339\n",
            "Эпоха 126, Значение функции потерь: 1.2684094905853271\n",
            "Эпоха 127, Значение функции потерь: 1.2778947353363037\n",
            "Эпоха 128, Значение функции потерь: 1.3674055337905884\n",
            "Эпоха 129, Значение функции потерь: 1.8044852018356323\n",
            "Эпоха 130, Значение функции потерь: 1.2939139604568481\n",
            "Эпоха 131, Значение функции потерь: 1.057167887687683\n",
            "Эпоха 132, Значение функции потерь: 1.0969250202178955\n",
            "Эпоха 133, Значение функции потерь: 1.3919651508331299\n",
            "Эпоха 134, Значение функции потерь: 1.2671725749969482\n",
            "Эпоха 135, Значение функции потерь: 1.2895073890686035\n",
            "Эпоха 136, Значение функции потерь: 1.5694795846939087\n",
            "Эпоха 137, Значение функции потерь: 1.5870230197906494\n",
            "Эпоха 138, Значение функции потерь: 1.1045196056365967\n",
            "Эпоха 139, Значение функции потерь: 1.3239707946777344\n",
            "Эпоха 140, Значение функции потерь: 1.1066787242889404\n",
            "Эпоха 141, Значение функции потерь: 1.395363450050354\n",
            "Эпоха 142, Значение функции потерь: 1.5929077863693237\n",
            "Эпоха 143, Значение функции потерь: 1.5198657512664795\n",
            "Эпоха 144, Значение функции потерь: 1.5301152467727661\n",
            "Эпоха 145, Значение функции потерь: 1.3072776794433594\n",
            "Эпоха 146, Значение функции потерь: 1.3240822553634644\n",
            "Эпоха 147, Значение функции потерь: 1.7027016878128052\n",
            "Эпоха 148, Значение функции потерь: 1.2580163478851318\n",
            "Эпоха 149, Значение функции потерь: 1.2346248626708984\n",
            "Эпоха 150, Значение функции потерь: 1.417595386505127\n",
            "Эпоха 151, Значение функции потерь: 1.4784314632415771\n",
            "Эпоха 152, Значение функции потерь: 1.469053864479065\n",
            "Эпоха 153, Значение функции потерь: 1.2767488956451416\n",
            "Эпоха 154, Значение функции потерь: 1.2409427165985107\n",
            "Эпоха 155, Значение функции потерь: 1.1891440153121948\n",
            "Эпоха 156, Значение функции потерь: 1.6151834726333618\n",
            "Эпоха 157, Значение функции потерь: 1.592739224433899\n",
            "Эпоха 158, Значение функции потерь: 1.167011022567749\n",
            "Эпоха 159, Значение функции потерь: 1.4909389019012451\n",
            "Эпоха 160, Значение функции потерь: 1.664751648902893\n",
            "Эпоха 161, Значение функции потерь: 1.5335960388183594\n",
            "Эпоха 162, Значение функции потерь: 1.3912432193756104\n",
            "Эпоха 163, Значение функции потерь: 1.5638577938079834\n",
            "Эпоха 164, Значение функции потерь: 1.4197520017623901\n",
            "Эпоха 165, Значение функции потерь: 1.3091578483581543\n",
            "Эпоха 166, Значение функции потерь: 1.6116701364517212\n",
            "Эпоха 167, Значение функции потерь: 1.5185627937316895\n",
            "Эпоха 168, Значение функции потерь: 1.4317446947097778\n",
            "Эпоха 169, Значение функции потерь: 1.2498724460601807\n",
            "Эпоха 170, Значение функции потерь: 1.5290184020996094\n",
            "Эпоха 171, Значение функции потерь: 1.464206576347351\n",
            "Эпоха 172, Значение функции потерь: 1.1623164415359497\n",
            "Эпоха 173, Значение функции потерь: 1.7799140214920044\n",
            "Эпоха 174, Значение функции потерь: 1.7045598030090332\n",
            "Эпоха 175, Значение функции потерь: 1.103164792060852\n",
            "Эпоха 176, Значение функции потерь: 1.7071291208267212\n",
            "Эпоха 177, Значение функции потерь: 0.9479519724845886\n",
            "Эпоха 178, Значение функции потерь: 1.2934212684631348\n",
            "Эпоха 179, Значение функции потерь: 1.6963939666748047\n",
            "Эпоха 180, Значение функции потерь: 1.2965596914291382\n",
            "Эпоха 181, Значение функции потерь: 1.0656895637512207\n",
            "Эпоха 182, Значение функции потерь: 1.337774395942688\n",
            "Эпоха 183, Значение функции потерь: 1.408845067024231\n",
            "Эпоха 184, Значение функции потерь: 1.4757914543151855\n",
            "Эпоха 185, Значение функции потерь: 1.3258967399597168\n",
            "Эпоха 186, Значение функции потерь: 1.3524625301361084\n",
            "Эпоха 187, Значение функции потерь: 1.435779094696045\n",
            "Эпоха 188, Значение функции потерь: 1.331718921661377\n",
            "Эпоха 189, Значение функции потерь: 1.2985399961471558\n",
            "Эпоха 190, Значение функции потерь: 1.6051756143569946\n",
            "Эпоха 191, Значение функции потерь: 1.0622408390045166\n",
            "Эпоха 192, Значение функции потерь: 1.4250153303146362\n",
            "Эпоха 193, Значение функции потерь: 1.4758225679397583\n",
            "Эпоха 194, Значение функции потерь: 1.9881865978240967\n",
            "Эпоха 195, Значение функции потерь: 1.5507687330245972\n",
            "Эпоха 196, Значение функции потерь: 1.5596520900726318\n",
            "Эпоха 197, Значение функции потерь: 1.235416293144226\n",
            "Эпоха 198, Значение функции потерь: 1.087782382965088\n",
            "Эпоха 199, Значение функции потерь: 0.9822876453399658\n",
            "Эпоха 200, Значение функции потерь: 1.748618483543396\n"
          ]
        }
      ]
    },
    {
      "cell_type": "code",
      "source": [
        "plt.plot(losses)"
      ],
      "metadata": {
        "colab": {
          "base_uri": "https://localhost:8080/",
          "height": 448
        },
        "id": "T_WpWKayti-T",
        "outputId": "492a991a-17be-4c20-c50f-8954918d8a73"
      },
      "execution_count": null,
      "outputs": [
        {
          "output_type": "execute_result",
          "data": {
            "text/plain": [
              "[<matplotlib.lines.Line2D at 0x7c502aa09030>]"
            ]
          },
          "metadata": {},
          "execution_count": 55
        },
        {
          "output_type": "display_data",
          "data": {
            "text/plain": [
              "<Figure size 640x480 with 1 Axes>"
            ],
            "image/png": "[encoded data removed]"
          },
          "metadata": {}
        }
      ]
    },
    {
      "cell_type": "code",
      "source": [
        "y_pred = model1(X_test.type(torch.float32))"
      ],
      "metadata": {
        "id": "coJzKFX4tyBv"
      },
      "execution_count": null,
      "outputs": []
    },
    {
      "cell_type": "code",
      "source": [
        "multiclass_f1_score(y_pred, y_test, num_classes=15)"
      ],
      "metadata": {
        "colab": {
          "base_uri": "https://localhost:8080/"
        },
        "id": "niR25RKit154",
        "outputId": "39f3f8d6-3956-41df-ae12-7c91bb977f1b"
      },
      "execution_count": null,
      "outputs": [
        {
          "output_type": "execute_result",
          "data": {
            "text/plain": [
              "tensor(0.5700, device='cuda:0')"
            ]
          },
          "metadata": {},
          "execution_count": 57
        }
      ]
    },
    {
      "cell_type": "code",
      "source": [
        "class LSTM(nn.Module):\n",
        "    def __init__(self, input_size, hidden_size, num_classes):\n",
        "\n",
        "        super().__init__()\n",
        "\n",
        "        self.lstm1 = nn.LSTM(input_size, hidden_size, 1, batch_first=True)\n",
        "        self.lstm2 = nn.LSTM(hidden_size, hidden_size, 1, batch_first=True)\n",
        "        self.fc = nn.Linear(hidden_size, num_classes)\n",
        "        self.softmax = nn.LogSoftmax()\n",
        "\n",
        "    def forward(self, x):\n",
        "\n",
        "        output, hidden = self.lstm1(x)\n",
        "        output, hidden = self.lstm2(output)\n",
        "        output = output.squeeze(0)\n",
        "        output = self.fc(output)\n",
        "        output = self.softmax(output)\n",
        "\n",
        "        return output"
      ],
      "metadata": {
        "id": "_kbnupeNN6XE"
      },
      "execution_count": null,
      "outputs": []
    },
    {
      "cell_type": "code",
      "source": [
        "model2 = LSTM(X_train.shape[1], 1, 15)"
      ],
      "metadata": {
        "id": "bHOWjqm9OHSs"
      },
      "execution_count": null,
      "outputs": []
    },
    {
      "cell_type": "code",
      "source": [
        "model2 = model2.to(device)"
      ],
      "metadata": {
        "id": "3zH5-r8GOOuX"
      },
      "execution_count": null,
      "outputs": []
    },
    {
      "cell_type": "code",
      "source": [
        "loss = nn.NLLLoss()"
      ],
      "metadata": {
        "id": "hPTdjqOkOTJK"
      },
      "execution_count": null,
      "outputs": []
    },
    {
      "cell_type": "code",
      "source": [
        "optimizer = torch.optim.Adam(model2.parameters(), lr=1e-3)"
      ],
      "metadata": {
        "id": "AxYgVf1tOUmf"
      },
      "execution_count": null,
      "outputs": []
    },
    {
      "cell_type": "code",
      "source": [
        "losses = []\n",
        "\n",
        "for ep in range (200):\n",
        "\n",
        "  for x_b, y_b in train_dl:\n",
        "\n",
        "    y_b = y_b.type(torch.LongTensor)\n",
        "    x_b, y_b = x_b.to(device), y_b.to(device)\n",
        "\n",
        "    outputs = model2(x_b)\n",
        "    loss_value = loss(outputs, y_b)\n",
        "    loss_value.backward()\n",
        "    optimizer.step()\n",
        "    optimizer.zero_grad()\n",
        "    losses.append(loss_value.item())\n",
        "\n",
        "  print(f'Эпоха {ep + 1}, Значение функции потерь: {loss_value.item()}')"
      ],
      "metadata": {
        "colab": {
          "base_uri": "https://localhost:8080/"
        },
        "id": "1zwuNgosOWSI",
        "outputId": "998cf518-512c-4c21-cf80-75c34b8348db"
      },
      "execution_count": null,
      "outputs": [
        {
          "output_type": "stream",
          "name": "stderr",
          "text": [
            "/usr/local/lib/python3.10/dist-packages/torch/nn/modules/module.py:1518: UserWarning: Implicit dimension choice for log_softmax has been deprecated. Change the call to include dim=X as an argument.\n",
            "  return self._call_impl(*args, **kwargs)\n"
          ]
        },
        {
          "output_type": "stream",
          "name": "stdout",
          "text": [
            "Эпоха 1, Значение функции потерь: 3.0923209190368652\n",
            "Эпоха 2, Значение функции потерь: 2.9991543292999268\n",
            "Эпоха 3, Значение функции потерь: 2.964397668838501\n",
            "Эпоха 4, Значение функции потерь: 2.8830485343933105\n",
            "Эпоха 5, Значение функции потерь: 2.9168500900268555\n",
            "Эпоха 6, Значение функции потерь: 2.821937322616577\n",
            "Эпоха 7, Значение функции потерь: 2.802746295928955\n",
            "Эпоха 8, Значение функции потерь: 2.77620267868042\n",
            "Эпоха 9, Значение функции потерь: 2.61684513092041\n",
            "Эпоха 10, Значение функции потерь: 2.446335554122925\n",
            "Эпоха 11, Значение функции потерь: 2.3901991844177246\n",
            "Эпоха 12, Значение функции потерь: 2.080721378326416\n",
            "Эпоха 13, Значение функции потерь: 2.094569683074951\n",
            "Эпоха 14, Значение функции потерь: 2.132955551147461\n",
            "Эпоха 15, Значение функции потерь: 1.792219877243042\n",
            "Эпоха 16, Значение функции потерь: 1.7283555269241333\n",
            "Эпоха 17, Значение функции потерь: 1.7041571140289307\n",
            "Эпоха 18, Значение функции потерь: 1.5780377388000488\n",
            "Эпоха 19, Значение функции потерь: 1.5913290977478027\n",
            "Эпоха 20, Значение функции потерь: 1.743652105331421\n",
            "Эпоха 21, Значение функции потерь: 1.6476263999938965\n",
            "Эпоха 22, Значение функции потерь: 1.643664836883545\n",
            "Эпоха 23, Значение функции потерь: 1.5525109767913818\n",
            "Эпоха 24, Значение функции потерь: 1.5812206268310547\n",
            "Эпоха 25, Значение функции потерь: 1.2236385345458984\n",
            "Эпоха 26, Значение функции потерь: 1.5238386392593384\n",
            "Эпоха 27, Значение функции потерь: 1.641438364982605\n",
            "Эпоха 28, Значение функции потерь: 1.4090138673782349\n",
            "Эпоха 29, Значение функции потерь: 1.4631478786468506\n",
            "Эпоха 30, Значение функции потерь: 1.3831326961517334\n",
            "Эпоха 31, Значение функции потерь: 1.5393893718719482\n",
            "Эпоха 32, Значение функции потерь: 1.558963656425476\n",
            "Эпоха 33, Значение функции потерь: 1.4523638486862183\n",
            "Эпоха 34, Значение функции потерь: 1.4566991329193115\n",
            "Эпоха 35, Значение функции потерь: 1.4222220182418823\n",
            "Эпоха 36, Значение функции потерь: 1.5629045963287354\n",
            "Эпоха 37, Значение функции потерь: 1.457153558731079\n",
            "Эпоха 38, Значение функции потерь: 1.1363117694854736\n",
            "Эпоха 39, Значение функции потерь: 1.5823800563812256\n",
            "Эпоха 40, Значение функции потерь: 1.5186080932617188\n",
            "Эпоха 41, Значение функции потерь: 1.3121038675308228\n",
            "Эпоха 42, Значение функции потерь: 1.3158488273620605\n",
            "Эпоха 43, Значение функции потерь: 1.3913321495056152\n",
            "Эпоха 44, Значение функции потерь: 1.5608937740325928\n",
            "Эпоха 45, Значение функции потерь: 1.1333333253860474\n",
            "Эпоха 46, Значение функции потерь: 1.267850399017334\n",
            "Эпоха 47, Значение функции потерь: 1.069057822227478\n",
            "Эпоха 48, Значение функции потерь: 1.5309135913848877\n",
            "Эпоха 49, Значение функции потерь: 1.3577048778533936\n",
            "Эпоха 50, Значение функции потерь: 1.5920668840408325\n",
            "Эпоха 51, Значение функции потерь: 1.2747961282730103\n",
            "Эпоха 52, Значение функции потерь: 1.0813056230545044\n",
            "Эпоха 53, Значение функции потерь: 1.4759355783462524\n",
            "Эпоха 54, Значение функции потерь: 1.3438689708709717\n",
            "Эпоха 55, Значение функции потерь: 1.448488473892212\n",
            "Эпоха 56, Значение функции потерь: 1.2109588384628296\n",
            "Эпоха 57, Значение функции потерь: 1.4804564714431763\n",
            "Эпоха 58, Значение функции потерь: 1.1459400653839111\n",
            "Эпоха 59, Значение функции потерь: 1.194870114326477\n",
            "Эпоха 60, Значение функции потерь: 1.1070271730422974\n",
            "Эпоха 61, Значение функции потерь: 1.1492724418640137\n",
            "Эпоха 62, Значение функции потерь: 1.4041705131530762\n",
            "Эпоха 63, Значение функции потерь: 1.115807056427002\n",
            "Эпоха 64, Значение функции потерь: 1.3470720052719116\n",
            "Эпоха 65, Значение функции потерь: 1.4054179191589355\n",
            "Эпоха 66, Значение функции потерь: 1.4114348888397217\n",
            "Эпоха 67, Значение функции потерь: 1.3591063022613525\n",
            "Эпоха 68, Значение функции потерь: 1.2217345237731934\n",
            "Эпоха 69, Значение функции потерь: 1.3479690551757812\n",
            "Эпоха 70, Значение функции потерь: 1.3002569675445557\n",
            "Эпоха 71, Значение функции потерь: 1.4084758758544922\n",
            "Эпоха 72, Значение функции потерь: 1.4235140085220337\n",
            "Эпоха 73, Значение функции потерь: 1.5505601167678833\n",
            "Эпоха 74, Значение функции потерь: 1.579375982284546\n",
            "Эпоха 75, Значение функции потерь: 1.444618821144104\n",
            "Эпоха 76, Значение функции потерь: 1.2218623161315918\n",
            "Эпоха 77, Значение функции потерь: 1.2171142101287842\n",
            "Эпоха 78, Значение функции потерь: 1.2181943655014038\n",
            "Эпоха 79, Значение функции потерь: 1.7526171207427979\n",
            "Эпоха 80, Значение функции потерь: 1.3285828828811646\n",
            "Эпоха 81, Значение функции потерь: 1.4979076385498047\n",
            "Эпоха 82, Значение функции потерь: 1.4197779893875122\n",
            "Эпоха 83, Значение функции потерь: 1.1678944826126099\n",
            "Эпоха 84, Значение функции потерь: 1.2903060913085938\n",
            "Эпоха 85, Значение функции потерь: 1.4775487184524536\n",
            "Эпоха 86, Значение функции потерь: 1.281541347503662\n",
            "Эпоха 87, Значение функции потерь: 1.1249885559082031\n",
            "Эпоха 88, Значение функции потерь: 1.7026392221450806\n",
            "Эпоха 89, Значение функции потерь: 1.4798905849456787\n",
            "Эпоха 90, Значение функции потерь: 1.6390560865402222\n",
            "Эпоха 91, Значение функции потерь: 1.561095118522644\n",
            "Эпоха 92, Значение функции потерь: 1.177961826324463\n",
            "Эпоха 93, Значение функции потерь: 1.44296133518219\n",
            "Эпоха 94, Значение функции потерь: 1.3691227436065674\n",
            "Эпоха 95, Значение функции потерь: 1.6776325702667236\n",
            "Эпоха 96, Значение функции потерь: 1.2918801307678223\n",
            "Эпоха 97, Значение функции потерь: 1.4057557582855225\n",
            "Эпоха 98, Значение функции потерь: 1.2544678449630737\n",
            "Эпоха 99, Значение функции потерь: 1.4701378345489502\n",
            "Эпоха 100, Значение функции потерь: 1.5039225816726685\n",
            "Эпоха 101, Значение функции потерь: 1.56959867477417\n",
            "Эпоха 102, Значение функции потерь: 1.6538017988204956\n",
            "Эпоха 103, Значение функции потерь: 1.4514588117599487\n",
            "Эпоха 104, Значение функции потерь: 1.2852979898452759\n",
            "Эпоха 105, Значение функции потерь: 1.401483416557312\n",
            "Эпоха 106, Значение функции потерь: 1.3963208198547363\n",
            "Эпоха 107, Значение функции потерь: 1.3372095823287964\n",
            "Эпоха 108, Значение функции потерь: 1.6550053358078003\n",
            "Эпоха 109, Значение функции потерь: 1.2421891689300537\n",
            "Эпоха 110, Значение функции потерь: 1.1394944190979004\n",
            "Эпоха 111, Значение функции потерь: 1.2995517253875732\n",
            "Эпоха 112, Значение функции потерь: 1.2853723764419556\n",
            "Эпоха 113, Значение функции потерь: 1.3906089067459106\n",
            "Эпоха 114, Значение функции потерь: 1.433075189590454\n",
            "Эпоха 115, Значение функции потерь: 1.5575783252716064\n",
            "Эпоха 116, Значение функции потерь: 1.3830043077468872\n",
            "Эпоха 117, Значение функции потерь: 1.11482572555542\n",
            "Эпоха 118, Значение функции потерь: 1.5377064943313599\n",
            "Эпоха 119, Значение функции потерь: 1.599540114402771\n",
            "Эпоха 120, Значение функции потерь: 1.304182767868042\n",
            "Эпоха 121, Значение функции потерь: 1.6106313467025757\n",
            "Эпоха 122, Значение функции потерь: 1.1056411266326904\n",
            "Эпоха 123, Значение функции потерь: 1.3386821746826172\n",
            "Эпоха 124, Значение функции потерь: 1.348639726638794\n",
            "Эпоха 125, Значение функции потерь: 1.1926681995391846\n",
            "Эпоха 126, Значение функции потерь: 1.3073179721832275\n",
            "Эпоха 127, Значение функции потерь: 1.485180139541626\n",
            "Эпоха 128, Значение функции потерь: 1.405859112739563\n",
            "Эпоха 129, Значение функции потерь: 1.4109437465667725\n",
            "Эпоха 130, Значение функции потерь: 1.4075171947479248\n",
            "Эпоха 131, Значение функции потерь: 1.543386697769165\n",
            "Эпоха 132, Значение функции потерь: 1.358338475227356\n",
            "Эпоха 133, Значение функции потерь: 1.3846726417541504\n",
            "Эпоха 134, Значение функции потерь: 1.3233323097229004\n",
            "Эпоха 135, Значение функции потерь: 1.123268961906433\n",
            "Эпоха 136, Значение функции потерь: 1.3595964908599854\n",
            "Эпоха 137, Значение функции потерь: 1.7206592559814453\n",
            "Эпоха 138, Значение функции потерь: 1.4352158308029175\n",
            "Эпоха 139, Значение функции потерь: 1.2767350673675537\n",
            "Эпоха 140, Значение функции потерь: 1.1841704845428467\n",
            "Эпоха 141, Значение функции потерь: 1.2551801204681396\n",
            "Эпоха 142, Значение функции потерь: 1.2976889610290527\n",
            "Эпоха 143, Значение функции потерь: 1.290033221244812\n",
            "Эпоха 144, Значение функции потерь: 1.5604302883148193\n",
            "Эпоха 145, Значение функции потерь: 1.593211054801941\n",
            "Эпоха 146, Значение функции потерь: 1.9324713945388794\n",
            "Эпоха 147, Значение функции потерь: 1.3790322542190552\n",
            "Эпоха 148, Значение функции потерь: 0.8825547099113464\n",
            "Эпоха 149, Значение функции потерь: 1.460692048072815\n",
            "Эпоха 150, Значение функции потерь: 1.5387425422668457\n",
            "Эпоха 151, Значение функции потерь: 1.2481589317321777\n",
            "Эпоха 152, Значение функции потерь: 1.8547190427780151\n",
            "Эпоха 153, Значение функции потерь: 1.2869006395339966\n",
            "Эпоха 154, Значение функции потерь: 1.37062668800354\n",
            "Эпоха 155, Значение функции потерь: 1.2816219329833984\n",
            "Эпоха 156, Значение функции потерь: 1.3557093143463135\n",
            "Эпоха 157, Значение функции потерь: 1.2513024806976318\n",
            "Эпоха 158, Значение функции потерь: 1.472928524017334\n",
            "Эпоха 159, Значение функции потерь: 1.4658489227294922\n",
            "Эпоха 160, Значение функции потерь: 1.148363709449768\n",
            "Эпоха 161, Значение функции потерь: 1.195908784866333\n",
            "Эпоха 162, Значение функции потерь: 1.3498291969299316\n",
            "Эпоха 163, Значение функции потерь: 1.4752355813980103\n",
            "Эпоха 164, Значение функции потерь: 1.160640835762024\n",
            "Эпоха 165, Значение функции потерь: 1.283960223197937\n",
            "Эпоха 166, Значение функции потерь: 1.668592929840088\n",
            "Эпоха 167, Значение функции потерь: 1.4361684322357178\n",
            "Эпоха 168, Значение функции потерь: 1.3223210573196411\n",
            "Эпоха 169, Значение функции потерь: 1.1941790580749512\n",
            "Эпоха 170, Значение функции потерь: 1.2422951459884644\n",
            "Эпоха 171, Значение функции потерь: 1.2492796182632446\n",
            "Эпоха 172, Значение функции потерь: 1.2944839000701904\n",
            "Эпоха 173, Значение функции потерь: 1.58690345287323\n",
            "Эпоха 174, Значение функции потерь: 1.6179903745651245\n",
            "Эпоха 175, Значение функции потерь: 1.331478238105774\n",
            "Эпоха 176, Значение функции потерь: 1.240381121635437\n",
            "Эпоха 177, Значение функции потерь: 1.5528762340545654\n",
            "Эпоха 178, Значение функции потерь: 1.274863600730896\n",
            "Эпоха 179, Значение функции потерь: 1.3800171613693237\n",
            "Эпоха 180, Значение функции потерь: 1.3647994995117188\n",
            "Эпоха 181, Значение функции потерь: 1.7841205596923828\n",
            "Эпоха 182, Значение функции потерь: 1.4635474681854248\n",
            "Эпоха 183, Значение функции потерь: 1.4275057315826416\n",
            "Эпоха 184, Значение функции потерь: 1.391391634941101\n",
            "Эпоха 185, Значение функции потерь: 1.4036483764648438\n",
            "Эпоха 186, Значение функции потерь: 1.4265151023864746\n",
            "Эпоха 187, Значение функции потерь: 1.286876916885376\n",
            "Эпоха 188, Значение функции потерь: 1.2689988613128662\n",
            "Эпоха 189, Значение функции потерь: 1.4156699180603027\n",
            "Эпоха 190, Значение функции потерь: 1.517109990119934\n",
            "Эпоха 191, Значение функции потерь: 1.363368272781372\n",
            "Эпоха 192, Значение функции потерь: 1.2763009071350098\n",
            "Эпоха 193, Значение функции потерь: 1.1427723169326782\n",
            "Эпоха 194, Значение функции потерь: 1.3799065351486206\n",
            "Эпоха 195, Значение функции потерь: 1.1482409238815308\n",
            "Эпоха 196, Значение функции потерь: 1.419862151145935\n",
            "Эпоха 197, Значение функции потерь: 1.134239912033081\n",
            "Эпоха 198, Значение функции потерь: 1.4883195161819458\n",
            "Эпоха 199, Значение функции потерь: 1.2087481021881104\n",
            "Эпоха 200, Значение функции потерь: 1.1647776365280151\n"
          ]
        }
      ]
    },
    {
      "cell_type": "code",
      "source": [
        "plt.plot(losses)"
      ],
      "metadata": {
        "colab": {
          "base_uri": "https://localhost:8080/",
          "height": 448
        },
        "id": "O3EY6h8BOXpq",
        "outputId": "690e6859-0f1a-493a-ccf1-6618f47f419b"
      },
      "execution_count": null,
      "outputs": [
        {
          "output_type": "execute_result",
          "data": {
            "text/plain": [
              "[<matplotlib.lines.Line2D at 0x7c502ab67dc0>]"
            ]
          },
          "metadata": {},
          "execution_count": 76
        },
        {
          "output_type": "display_data",
          "data": {
            "text/plain": [
              "<Figure size 640x480 with 1 Axes>"
            ],
            "image/png": "[encoded data removed]"
          },
          "metadata": {}
        }
      ]
    },
    {
      "cell_type": "code",
      "source": [
        "y_pred = model2(X_test.type(torch.float32))"
      ],
      "metadata": {
        "id": "OPTdANk5Oa0z"
      },
      "execution_count": null,
      "outputs": []
    },
    {
      "cell_type": "code",
      "source": [
        "multiclass_f1_score(y_pred, y_test, num_classes=15)"
      ],
      "metadata": {
        "colab": {
          "base_uri": "https://localhost:8080/"
        },
        "id": "ialageACOc3V",
        "outputId": "3911a9a2-e343-4f63-ec0a-d12f170d201f"
      },
      "execution_count": null,
      "outputs": [
        {
          "output_type": "execute_result",
          "data": {
            "text/plain": [
              "tensor(0.5700, device='cuda:0')"
            ]
          },
          "metadata": {},
          "execution_count": 78
        }
      ]
    }
  ]
}